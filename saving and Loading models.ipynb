{
  "nbformat": 4,
  "nbformat_minor": 0,
  "metadata": {
    "colab": {
      "name": "Untitled10.ipynb",
      "provenance": [],
      "authorship_tag": "ABX9TyOKrvAC2zAkoxw+JyUgDmT6",
      "include_colab_link": true
    },
    "kernelspec": {
      "name": "python3",
      "display_name": "Python 3"
    },
    "language_info": {
      "name": "python"
    }
  },
  "cells": [
    {
      "cell_type": "markdown",
      "metadata": {
        "id": "view-in-github",
        "colab_type": "text"
      },
      "source": [
        "<a href=\"https://colab.research.google.com/github/Mattapalli73/Pytorch/blob/main/saving%20and%20Loading%20models.ipynb\" target=\"_parent\"><img src=\"https://colab.research.google.com/assets/colab-badge.svg\" alt=\"Open In Colab\"/></a>"
      ]
    },
    {
      "cell_type": "code",
      "source": [
        "import torch\n",
        "import torchvision.models as models\n",
        "\n",
        "print('##Saving and Loading Model Weights##')\n",
        "\n",
        "print('Saving the models')\n",
        "sample_model=sample_model.vgg16(pretrained=True)\n",
        "torch.save(sample_model.state_dict(),'model_weights.pth')\n",
        "\n",
        "print('Loading the models')\n",
        "sample_model=sample_model.vgg18()\n",
        "sample_model.load_state_dict(torch.load('model_weights.pth'))\n",
        "sample_model.eval()\n",
        "\n",
        "\n",
        "print('##Saving and Loading Model with shapes##')\n",
        "\n",
        "print('Saving the models')\n",
        "torch.save(sample_model,'model.pth')\n",
        "\n",
        "print('Loading the models')\n",
        "sample_model=torch.load('model.pth')\n"
      ],
      "metadata": {
        "id": "Gpuz2qJL872b"
      },
      "execution_count": null,
      "outputs": []
    },
    {
      "cell_type": "code",
      "source": [
        ""
      ],
      "metadata": {
        "id": "1TTOAI50-7uC"
      },
      "execution_count": null,
      "outputs": []
    }
  ]
}