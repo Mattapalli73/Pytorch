{
  "nbformat": 4,
  "nbformat_minor": 0,
  "metadata": {
    "colab": {
      "name": "Untitled15.ipynb",
      "provenance": [],
      "authorship_tag": "ABX9TyPz0zxXwkuSFE9RhZq1qzkv",
      "include_colab_link": true
    },
    "kernelspec": {
      "name": "python3",
      "display_name": "Python 3"
    },
    "language_info": {
      "name": "python"
    }
  },
  "cells": [
    {
      "cell_type": "markdown",
      "metadata": {
        "id": "view-in-github",
        "colab_type": "text"
      },
      "source": [
        "<a href=\"https://colab.research.google.com/github/Mattapalli73/Pytorch/blob/main/Cross%20Entropy%20Loss%20with%20class%20probabilities.ipynb\" target=\"_parent\"><img src=\"https://colab.research.google.com/assets/colab-badge.svg\" alt=\"Open In Colab\"/></a>"
      ]
    },
    {
      "cell_type": "code",
      "execution_count": 8,
      "metadata": {
        "colab": {
          "base_uri": "https://localhost:8080/"
        },
        "id": "WJ2jzXauJTVs",
        "outputId": "01776837-8c36-4fac-ce8b-f3664e81e7ee"
      },
      "outputs": [
        {
          "output_type": "stream",
          "name": "stdout",
          "text": [
            "the input is tensor([[0.6650, 0.2688, 0.1242, 0.6245, 0.8692],\n",
            "        [0.3977, 0.9627, 0.4654, 0.2245, 0.1031],\n",
            "        [0.6019, 0.3556, 0.0257, 0.8855, 0.1107]], requires_grad=True)\n",
            "the target is tensor([[0.2099, 0.1934, 0.2329, 0.2441, 0.1197],\n",
            "        [0.1801, 0.1999, 0.3114, 0.1515, 0.1572],\n",
            "        [0.2020, 0.2340, 0.1222, 0.2898, 0.1520]])\n",
            "the out is tensor(1.6274, grad_fn=<DivBackward1>)\n"
          ]
        }
      ],
      "source": [
        "from torch._C import dtype\n",
        "import torch\n",
        "import numpy as np\n",
        "import torchvision\n",
        "import torch.nn as nn\n",
        "\n",
        "loss=nn.CrossEntropyLoss()\n",
        "\n",
        "input=torch.rand(3,5,requires_grad=True)\n",
        "print('the input is',input)\n",
        "\n",
        "target = torch.rand(3,5).softmax(dim=1)\n",
        "print('the target is',target)\n",
        "\n",
        "output = loss(input, target)\n",
        "print('the out is',output)\n",
        "\n",
        "output.backward()\n",
        "\n"
      ]
    }
  ]
}