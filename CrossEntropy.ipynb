{
  "nbformat": 4,
  "nbformat_minor": 0,
  "metadata": {
    "colab": {
      "name": "Untitled14.ipynb",
      "provenance": [],
      "collapsed_sections": [],
      "authorship_tag": "ABX9TyNETM/stCD3eZdSnx9V7S45",
      "include_colab_link": true
    },
    "kernelspec": {
      "name": "python3",
      "display_name": "Python 3"
    },
    "language_info": {
      "name": "python"
    }
  },
  "cells": [
    {
      "cell_type": "markdown",
      "metadata": {
        "id": "view-in-github",
        "colab_type": "text"
      },
      "source": [
        "<a href=\"https://colab.research.google.com/github/Mattapalli73/Pytorch/blob/main/CrossEntropy.ipynb\" target=\"_parent\"><img src=\"https://colab.research.google.com/assets/colab-badge.svg\" alt=\"Open In Colab\"/></a>"
      ]
    },
    {
      "cell_type": "code",
      "source": [
        "from torch._C import dtype\n",
        "import torch\n",
        "import numpy as np\n",
        "import torchvision\n",
        "import torch.nn as nn\n",
        "\n",
        "loss=nn.CrossEntropyLoss()\n",
        "\n",
        "input=torch.rand(8,8,requires_grad=True) #generate 5X5 tensor\n",
        "print('the input is',input)\n",
        "\n",
        "target = torch.empty(8,dtype=torch.long).random_(5) #generate empty tensor and replaced the elements with random values till 5\n",
        "print('the target is',target)\n",
        "\n",
        "output = loss(input, target)\n",
        "print('the output is',output)\n",
        "\n",
        "output.backward()\n",
        "\n"
      ],
      "metadata": {
        "colab": {
          "base_uri": "https://localhost:8080/"
        },
        "id": "H0kgZkZLEaGU",
        "outputId": "365d21f4-bd33-4d06-ba30-71d5672de9bd"
      },
      "execution_count": 45,
      "outputs": [
        {
          "output_type": "stream",
          "name": "stdout",
          "text": [
            "the input is tensor([[0.3256, 0.0376, 0.3246, 0.4553, 0.1610, 0.9489, 0.0679, 0.9272],\n",
            "        [0.4708, 0.0473, 0.5249, 0.5303, 0.8246, 0.6603, 0.4292, 0.8134],\n",
            "        [0.4044, 0.6578, 0.6555, 0.8297, 0.9994, 0.6240, 0.8481, 0.6722],\n",
            "        [0.4079, 0.4864, 0.7636, 0.6488, 0.2230, 0.6338, 0.5181, 0.1554],\n",
            "        [0.8243, 0.7182, 0.7152, 0.4229, 0.7395, 0.9434, 0.4873, 0.9004],\n",
            "        [0.2949, 0.6365, 0.9277, 0.2393, 0.5917, 0.9305, 0.1867, 0.6416],\n",
            "        [0.1605, 0.9504, 0.2055, 0.9887, 0.2845, 0.7265, 0.5046, 0.2832],\n",
            "        [0.9401, 0.7338, 0.8884, 0.5963, 0.6247, 0.8304, 0.1930, 0.5655]],\n",
            "       requires_grad=True)\n",
            "the target is tensor([0, 1, 3, 3, 0, 2, 0, 2])\n",
            "the out is tensor(2.1025, grad_fn=<NllLossBackward0>)\n"
          ]
        }
      ]
    }
  ]
}