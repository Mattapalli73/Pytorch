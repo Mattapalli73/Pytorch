{
  "nbformat": 4,
  "nbformat_minor": 0,
  "metadata": {
    "colab": {
      "name": "Untitled5.ipynb",
      "provenance": [],
      "collapsed_sections": [],
      "authorship_tag": "ABX9TyPS3zoLSvoUTtQ+HfZQ/Avv",
      "include_colab_link": true
    },
    "kernelspec": {
      "name": "python3",
      "display_name": "Python 3"
    },
    "language_info": {
      "name": "python"
    }
  },
  "cells": [
    {
      "cell_type": "markdown",
      "metadata": {
        "id": "view-in-github",
        "colab_type": "text"
      },
      "source": [
        "<a href=\"https://colab.research.google.com/github/Mattapalli73/Pytorch/blob/main/Iterating%20the%20Data%20Loader.ipynb\" target=\"_parent\"><img src=\"https://colab.research.google.com/assets/colab-badge.svg\" alt=\"Open In Colab\"/></a>"
      ]
    },
    {
      "cell_type": "code",
      "source": [
        "from torch.utils.data.dataset import TensorDataset\n",
        "import torch\n",
        "from torch.utils.data import Dataset\n",
        "from torchvision import datasets\n",
        "from torchvision.transforms import ToTensor\n",
        "import matplotlib.pyplot as plt\n",
        "import numpy as np\n",
        "\n",
        "training_data=datasets.CIFAR10(\n",
        "    root=\"data\",\n",
        "    train=False,\n",
        "    download=True,\n",
        "    transform=ToTensor()\n",
        "    )\n",
        "test_data=datasets.CIFAR10(\n",
        "    root=\"data\",\n",
        "    train=False,\n",
        "    download=True,\n",
        "    transform=ToTensor()\n",
        "    )\n",
        "\n",
        "Data_Items = np.array(('plane', 'car', 'bird', 'cat', 'deer', 'dog', 'frog', 'horse', 'ship', 'truck'))\n",
        "\n",
        "Image_out=plt.figure(figsize=(8,8))\n",
        "print(Image_out)\n",
        "columns,rows=2,2\n",
        "for i in range(1, columns*rows+1):\n",
        "  sample=torch.randint(len(training_data),size=(1,)).item()\n",
        "  print(sample)\n",
        "  img, label = training_data[sample]\n",
        "  Image_out.add_subplot(rows, columns, i)\n",
        "  plt.title(Data_Items[label])\n",
        "  plt.axis(\"off\")\n",
        "  original_img = img.cpu().numpy().swapaxes(1,1).swapaxes(1,1)[0]\n",
        "  plt.imshow(original_img,vmin=0,vmax=25,cmap='BrBG')\n",
        "plt.show()"
      ],
      "metadata": {
        "colab": {
          "base_uri": "https://localhost:8080/",
          "height": 610
        },
        "id": "TmpbQTdmoPUe",
        "outputId": "0506a3b7-cf31-4086-e234-a5eb4ba70cbb"
      },
      "execution_count": 103,
      "outputs": [
        {
          "output_type": "stream",
          "name": "stdout",
          "text": [
            "Files already downloaded and verified\n",
            "Files already downloaded and verified\n",
            "Figure(576x576)\n",
            "6466\n",
            "3407\n",
            "4906\n",
            "7175\n"
          ]
        },
        {
          "output_type": "display_data",
          "data": {
            "image/png": "[encoded data removed]",
            "text/plain": [
              "<Figure size 576x576 with 4 Axes>"
            ]
          },
          "metadata": {
            "needs_background": "light"
          }
        }
      ]
    },
    {
      "cell_type": "code",
      "source": [
        "from torch.utils.data import DataLoader\n",
        "\n",
        "train_dataloader = DataLoader(training_data, batch_size=64, shuffle=True)\n",
        "test_dataloader = DataLoader(test_data, batch_size=64, shuffle=True)\n",
        "train_Image, train_labels = next(iter(train_dataloader))\n",
        "print(f\"Feature batch shape: {train_Image.size()}\")\n",
        "print(f\"Labels batch shape: {train_labels.size()}\")\n",
        "img = train_Image[0].squeeze()\n",
        "label = train_labels[0]\n",
        "plt.title(Data_Items[label])\n",
        "original_img = img.cpu().numpy().swapaxes(1,1).swapaxes(1,1)[0]\n",
        "plt.imshow(original_img,vmin=0,vmax=25,cmap='BrBG')\n",
        "plt.show()\n",
        "print(f\"Label: {label}\")\n",
        "print(label)\n",
        "\n",
        "flatten = nn.Flatten()\n",
        "flat_image = flatten(input_image)\n",
        "print(flat_image.size())\n"
      ],
      "metadata": {
        "colab": {
          "base_uri": "https://localhost:8080/",
          "height": 354
        },
        "id": "GZVbrkIi9NDs",
        "outputId": "86a280a7-3a2d-4241-d5e9-4c2b90417b45"
      },
      "execution_count": 146,
      "outputs": [
        {
          "output_type": "stream",
          "name": "stdout",
          "text": [
            "Feature batch shape: torch.Size([64, 3, 32, 32])\n",
            "Labels batch shape: torch.Size([64])\n"
          ]
        },
        {
          "output_type": "display_data",
          "data": {
            "image/png": "[encoded data removed]",
            "text/plain": [
              "<Figure size 432x288 with 1 Axes>"
            ]
          },
          "metadata": {
            "needs_background": "light"
          }
        },
        {
          "output_type": "stream",
          "name": "stdout",
          "text": [
            "Label: 5\n",
            "tensor(5)\n"
          ]
        }
      ]
    }
  ]
}