{
  "cells": [
    {
      "cell_type": "markdown",
      "metadata": {
        "id": "view-in-github",
        "colab_type": "text"
      },
      "source": [
        "<a href=\"https://colab.research.google.com/github/Mattapalli73/Pytorch/blob/main/Feed-Forward%20Neural%20Network.ipynb\" target=\"_parent\"><img src=\"https://colab.research.google.com/assets/colab-badge.svg\" alt=\"Open In Colab\"/></a>"
      ]
    },
    {
      "cell_type": "code",
      "execution_count": 75,
      "metadata": {
        "colab": {
          "base_uri": "https://localhost:8080/",
          "height": 759
        },
        "id": "QpEGIsXZSOsn",
        "outputId": "b3d10d17-8566-4ba3-e125-39283147fba3"
      },
      "outputs": [
        {
          "output_type": "stream",
          "name": "stdout",
          "text": [
            "print labels tensor([4, 3, 2, 5, 3, 5, 0, 5, 3, 3, 6, 6, 4, 9, 3, 8, 7, 1, 8, 7, 4, 0, 5, 6,\n",
            "        2, 2, 4, 9, 6, 6, 1, 9, 1, 4, 8, 1, 0, 4, 0, 7, 1, 9, 6, 0, 2, 1, 0, 7,\n",
            "        3, 6, 3, 7, 5, 5, 9, 0, 6, 4, 4, 5, 2, 6, 7, 0, 3, 1, 0, 9, 1, 7, 2, 8,\n",
            "        2, 8, 5, 5, 0, 6, 1, 9, 2, 9, 1, 9, 0, 1, 0, 7, 1, 8, 3, 5, 6, 4, 7, 3,\n",
            "        9, 7, 3, 2, 8, 2, 9, 5, 3, 9, 1, 7, 1, 3, 9, 4, 9, 2, 7, 7, 4, 7, 8, 6,\n",
            "        7, 7, 1, 2, 6, 4, 1, 3, 1, 6, 6, 1, 9, 8, 4, 0, 6, 7, 7, 1, 1, 7, 3, 9,\n",
            "        3, 2, 1, 9, 3, 1, 3, 6, 9, 2, 2, 7, 3, 2, 0, 6, 7, 8, 9, 5, 0, 1, 7, 1,\n",
            "        8, 7, 9, 6, 8, 5, 9, 6, 3, 3, 2, 6, 5, 1, 1, 1, 9, 6, 9, 3, 7, 9, 3, 2,\n",
            "        2, 3, 3, 2, 9, 2, 8, 7])\n",
            "torch.Size([200, 1, 28, 28])\n",
            "torch.Size([200])\n"
          ]
        },
        {
          "output_type": "display_data",
          "data": {
            "image/png": "[encoded data removed]",
            "text/plain": [
              "<Figure size 432x288 with 6 Axes>"
            ]
          },
          "metadata": {
            "needs_background": "light"
          }
        },
        {
          "output_type": "stream",
          "name": "stdout",
          "text": [
            "the model is  NN(\n",
            "  (l1): Linear(in_features=784, out_features=100, bias=True)\n",
            "  (relu): ReLU()\n",
            "  (l2): Linear(in_features=100, out_features=10, bias=True)\n",
            ")\n",
            "the model parameters are <generator object Module.parameters at 0x7f2e1f3d20d0>\n",
            "the n value is 300\n",
            "epoch 1/2, step 100/300,loss=0.4039\n",
            "epoch 1/2, step 200/300,loss=0.3612\n",
            "epoch 1/2, step 300/300,loss=0.3097\n",
            "epoch 2/2, step 100/300,loss=0.2371\n",
            "epoch 2/2, step 200/300,loss=0.3369\n",
            "epoch 2/2, step 300/300,loss=0.2655\n",
            "no of sample 10000\n",
            "no of correct 9414\n",
            "The model accuracy = 94.14\n"
          ]
        }
      ],
      "source": [
        "from os import cpu_count\n",
        "from torch.functional import Tensor\n",
        "import torch\n",
        "import torchvision\n",
        "import torch.nn as nn\n",
        "import torch.nn.functional as F\n",
        "import numpy as np \n",
        "import torchvision.transforms as transforms\n",
        "import matplotlib.pyplot as plt\n",
        "from torch.utils.data import DataLoader\n",
        "import torchvision.datasets as datasets\n",
        "\n",
        "device=torch.device('cuda' if torch.cuda.is_available else 'cpu')\n",
        "\n",
        "input=784\n",
        "hidden=100\n",
        "classes=10\n",
        "epoches=2\n",
        "batch=200\n",
        "learningrate=0.001\n",
        "\n",
        "\n",
        "train_dataset=datasets.MNIST(\n",
        "    root='dataset/',\n",
        "    train=True,\n",
        "    transform=transforms.ToTensor(),\n",
        "    download=True\n",
        ")\n",
        "test_dataset=datasets.MNIST(\n",
        "    root='dataset/',\n",
        "    download=True,\n",
        "    train=False,\n",
        "    transform=transforms.ToTensor(),\n",
        ")\n",
        "\n",
        "train_loader=DataLoader(dataset=train_dataset,batch_size=batch,shuffle=True)\n",
        "test_loader=DataLoader(dataset=test_dataset,batch_size=batch,shuffle=True)\n",
        "\n",
        "\n",
        "\n",
        "ex=iter(train_loader)\n",
        "#print('print iter train loader',ex)\n",
        "samples,labels=ex.next()\n",
        "#print('print sample',samples)\n",
        "print('print labels',labels)\n",
        "\n",
        "\n",
        "print(samples.shape)\n",
        "print(labels.shape)\n",
        "\n",
        "\n",
        "for i in range(6):\n",
        "  plt.subplot(2,3,i+1)\n",
        "  plt.imshow(samples[i][0],cmap='gray')\n",
        "  #print('samples',samples)\n",
        "plt.show()\n",
        "\n",
        "\n",
        "class NN(nn.Module):\n",
        "  def __init__(self,input,hidden,classes):\n",
        "    super(NN,self).__init__()\n",
        "    self.l1=nn.Linear(input,hidden)\n",
        "    self.relu=nn.ReLU()\n",
        "    self.l2=nn.Linear(hidden,classes)\n",
        "    #self.relu=nn.ReLU()\n",
        "\n",
        "  def forward(self,x):\n",
        "    out=self.l1(x)\n",
        "    out=self.relu(out)\n",
        "    out=self.l2(out)\n",
        "    return out\n",
        "  \n",
        "model=NN (input,hidden,classes)\n",
        "print('the model is ', model)\n",
        "\n",
        "criterian=nn.CrossEntropyLoss()\n",
        "#print('the criterion is ',criterian)\n",
        "\n",
        "optimizer=torch.optim.Adam(model.parameters(),lr=learningrate)\n",
        "#print('the opti is ',optimizer)\n",
        "\n",
        "print('the model parameters are', model.parameters())\n",
        "\n",
        "\n",
        "n=len(train_loader)\n",
        "print('the n value is',n)\n",
        "for E in range (epoches):\n",
        "  for i, (images,labels) in enumerate (train_loader):\n",
        "      #print('The images before reshaping',images)\n",
        "      images=images.reshape(-1,28*28)\n",
        "      labels=labels\n",
        "      #print('The i is ',i)\n",
        "      #print('The image',images)\n",
        "      #print('the label',labels)\n",
        "\n",
        "      outputs=model(images)\n",
        "      #print('The outputs are',outputs)\n",
        "      loss=criterian (outputs,labels)\n",
        "\n",
        "      optimizer.zero_grad()\n",
        "      loss.backward()\n",
        "      optimizer.step()\n",
        "\n",
        "      if(i+1) % 100==0:\n",
        "        print(f'epoch {E+1}/{epoches}, step {i+1}/{n},loss={loss.item():.4f}')\n",
        "\n",
        "\n",
        "with torch.no_grad():\n",
        "  correct=0\n",
        "  samples=0\n",
        "  for images,labels in test_loader:\n",
        "    #print('Images  for accuracy loop',images)\n",
        "    images=images.reshape(-1,28*28)\n",
        "    labels=labels\n",
        "    #print('the accuracy loop labels',labels)\n",
        "    outputs=model(images)\n",
        "    #print('the accuracy output is',outputs)\n",
        "\n",
        "    _, predictions=torch.max(outputs,1)\n",
        "    #print('predictions',predictions)\n",
        "    samples += labels.shape[0]\n",
        "    correct += (predictions == labels).sum().item()\n",
        "\n",
        "  print('no of sample',samples)\n",
        "  print('no of correct',correct)\n",
        "  \n",
        "  accuracy=(correct/ samples)*100\n",
        "  print(f'The model accuracy = {accuracy}')\n",
        "\n",
        "\n"
      ]
    }
  ],
  "metadata": {
    "colab": {
      "collapsed_sections": [],
      "name": "Untitled13.ipynb",
      "provenance": [],
      "authorship_tag": "ABX9TyMjqwaSEl3o30RGBWHXepXW",
      "include_colab_link": true
    },
    "kernelspec": {
      "display_name": "Python 3",
      "name": "python3"
    },
    "language_info": {
      "name": "python"
    }
  },
  "nbformat": 4,
  "nbformat_minor": 0
}