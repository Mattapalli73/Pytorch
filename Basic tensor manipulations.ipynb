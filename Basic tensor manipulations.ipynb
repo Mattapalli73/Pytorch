{
  "nbformat": 4,
  "nbformat_minor": 0,
  "metadata": {
    "colab": {
      "name": "Untitled10.ipynb",
      "provenance": [],
      "collapsed_sections": [],
      "authorship_tag": "ABX9TyPkQbCfQrCdq+Ko4GIJVVNh",
      "include_colab_link": true
    },
    "kernelspec": {
      "name": "python3",
      "display_name": "Python 3"
    },
    "language_info": {
      "name": "python"
    }
  },
  "cells": [
    {
      "cell_type": "markdown",
      "metadata": {
        "id": "view-in-github",
        "colab_type": "text"
      },
      "source": [
        "<a href=\"https://colab.research.google.com/github/Mattapalli73/Pytorch/blob/main/Basic%20tensor%20manipulations.ipynb\" target=\"_parent\"><img src=\"https://colab.research.google.com/assets/colab-badge.svg\" alt=\"Open In Colab\"/></a>"
      ]
    },
    {
      "cell_type": "code",
      "source": [
        "import torch\n",
        "from torch import nn\n",
        "\n",
        "print('Basic Tensor Manipulations')\n",
        "\n",
        "#creating a matrix with diagonal Eleents as 1's and the data type and size\n",
        "x=torch.eye(5,5)\n",
        "print(x)\n",
        "print(x.size())\n",
        "print(x.dtype)\n",
        "\n",
        "#assigning the data type int\n",
        "i=torch.ones((2,2),dtype=torch.int16)\n",
        "print(i)\n",
        "\n",
        "#Seeding \n",
        "\n",
        "torch.manual_seed(155)\n",
        "rand1=torch.rand(3,3)\n",
        "print(rand1)\n",
        "\n",
        "rand2=torch.rand(3,3)\n",
        "print(rand2)\n",
        "\n",
        "torch.manual_seed(155)\n",
        "rand3=torch.rand(3,3)\n",
        "print(rand3)\n",
        "#adding the two matrix\n",
        "add12=rand1+rand2\n",
        "print(add12)\n",
        "#multiplying the two matrix\n",
        "mul=rand2*rand3\n",
        "print('multiplication result is:',mul)\n",
        "#multiplying the tensor with 10\n",
        "result=x*10\n",
        "print('the result is ',result)\n",
        "\n",
        "result2=torch.ones(1,2)*10\n",
        "print(result2)\n",
        "\n",
        "#some random oprerations\n",
        "\n",
        "a1=torch.rand(2,2)-0.5*2\n",
        "print(a1)\n",
        "#absolute Value\n",
        "a2=torch.abs(a1)\n",
        "print(a2)\n",
        "#inverse\n",
        "a3=torch.asin(a1)\n",
        "print(a3)\n",
        "#determinant\n",
        "print(torch.det(rand1))\n",
        "#Singular value decomposition\n",
        "print(torch.svd(rand1))\n",
        "#Average and std deviation\n",
        "print(torch.std_mean(a1))\n",
        "#max value\n",
        "print(torch.max(a1))"
      ],
      "metadata": {
        "colab": {
          "base_uri": "https://localhost:8080/"
        },
        "id": "Gpuz2qJL872b",
        "outputId": "c2a471b7-0cf1-48fd-c717-47dccdeebd05"
      },
      "execution_count": 43,
      "outputs": [
        {
          "output_type": "stream",
          "name": "stdout",
          "text": [
            "Basic Tensor Manipulations\n",
            "tensor([[1., 0., 0., 0., 0.],\n",
            "        [0., 1., 0., 0., 0.],\n",
            "        [0., 0., 1., 0., 0.],\n",
            "        [0., 0., 0., 1., 0.],\n",
            "        [0., 0., 0., 0., 1.]])\n",
            "torch.Size([5, 5])\n",
            "torch.float32\n",
            "tensor([[1, 1],\n",
            "        [1, 1]], dtype=torch.int16)\n",
            "tensor([[0.9955, 0.9558, 0.8075],\n",
            "        [0.5049, 0.3254, 0.8290],\n",
            "        [0.8800, 0.4684, 0.2964]])\n",
            "tensor([[0.6001, 0.4721, 0.1455],\n",
            "        [0.4672, 0.3077, 0.0258],\n",
            "        [0.6270, 0.4559, 0.9807]])\n",
            "tensor([[0.9955, 0.9558, 0.8075],\n",
            "        [0.5049, 0.3254, 0.8290],\n",
            "        [0.8800, 0.4684, 0.2964]])\n",
            "tensor([[1.5956, 1.4280, 0.9530],\n",
            "        [0.9721, 0.6330, 0.8548],\n",
            "        [1.5070, 0.9243, 1.2771]])\n",
            "multiplication result is: tensor([[0.5974, 0.4513, 0.1175],\n",
            "        [0.2359, 0.1001, 0.0214],\n",
            "        [0.5518, 0.2136, 0.2907]])\n",
            "the result is  tensor([[10.,  0.,  0.,  0.,  0.],\n",
            "        [ 0., 10.,  0.,  0.,  0.],\n",
            "        [ 0.,  0., 10.,  0.,  0.],\n",
            "        [ 0.,  0.,  0., 10.,  0.],\n",
            "        [ 0.,  0.,  0.,  0., 10.]])\n",
            "tensor([[10., 10.]])\n",
            "tensor([[-0.3999, -0.5279],\n",
            "        [-0.8545, -0.5328]])\n",
            "tensor([[0.3999, 0.5279],\n",
            "        [0.8545, 0.5328]])\n",
            "tensor([[-0.4114, -0.5561],\n",
            "        [-1.0246, -0.5618]])\n",
            "tensor(0.2235)\n",
            "torch.return_types.svd(\n",
            "U=tensor([[-0.7580,  0.0815, -0.6472],\n",
            "        [-0.4520, -0.7809,  0.4311],\n",
            "        [-0.4703,  0.6193,  0.6287]]),\n",
            "S=tensor([2.1002, 0.4745, 0.2242]),\n",
            "V=tensor([[-0.6650,  0.4887,  0.5648],\n",
            "        [-0.5199,  0.2401, -0.8198],\n",
            "        [-0.5362, -0.8388,  0.0944]]))\n",
            "(tensor(0.1938), tensor(-0.5788))\n",
            "tensor(-0.3999)\n"
          ]
        }
      ]
    }
  ]
}