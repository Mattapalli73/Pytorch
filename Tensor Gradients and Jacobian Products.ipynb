{
  "nbformat": 4,
  "nbformat_minor": 0,
  "metadata": {
    "colab": {
      "name": "Untitled8.ipynb",
      "provenance": [],
      "collapsed_sections": [],
      "authorship_tag": "ABX9TyOUjCUszWVdVmUHok/eXWeN",
      "include_colab_link": true
    },
    "kernelspec": {
      "name": "python3",
      "display_name": "Python 3"
    },
    "language_info": {
      "name": "python"
    }
  },
  "cells": [
    {
      "cell_type": "markdown",
      "metadata": {
        "id": "view-in-github",
        "colab_type": "text"
      },
      "source": [
        "<a href=\"https://colab.research.google.com/github/Mattapalli73/Pytorch/blob/main/Tensor%20Gradients%20and%20Jacobian%20Products.ipynb\" target=\"_parent\"><img src=\"https://colab.research.google.com/assets/colab-badge.svg\" alt=\"Open In Colab\"/></a>"
      ]
    },
    {
      "cell_type": "code",
      "execution_count": 14,
      "metadata": {
        "colab": {
          "base_uri": "https://localhost:8080/"
        },
        "id": "OBHVK6iwWpFZ",
        "outputId": "11dcd607-1d70-48a6-988e-5d74d6891f7c"
      },
      "outputs": [
        {
          "output_type": "stream",
          "name": "stdout",
          "text": [
            "first call tensor([[6., 4., 4.],\n",
            "        [4., 6., 4.],\n",
            "        [4., 4., 6.]])\n",
            "second call tensor([[12.,  8.,  8.],\n",
            "        [ 8., 12.,  8.],\n",
            "        [ 8.,  8., 12.]])\n",
            "first call after zeroing the grad tensor([[6., 4., 4.],\n",
            "        [4., 6., 4.],\n",
            "        [4., 4., 6.]])\n"
          ]
        }
      ],
      "source": [
        "import torch\n",
        "import numpy as np\n",
        "from torch.utils.data import dataloader\n",
        "\n",
        "input=torch.eye(3,requires_grad=True)\n",
        "output=(input+2).pow(2)\n",
        "output.backward(torch.ones_like(input), retain_graph=True)\n",
        "print('first call',input.grad)\n",
        "\n",
        "output.backward(torch.ones_like(input), retain_graph=True)\n",
        "print('second call', input.grad)\n",
        "\n",
        "input.grad.zero_()\n",
        "output.backward(torch.ones_like(input), retain_graph=True)\n",
        "print('first call after zeroing the grad',input.grad)"
      ]
    }
  ]
}