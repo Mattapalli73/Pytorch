{
  "nbformat": 4,
  "nbformat_minor": 0,
  "metadata": {
    "colab": {
      "name": "Untitled5.ipynb",
      "provenance": [],
      "collapsed_sections": [],
      "authorship_tag": "ABX9TyM/nhfkNFu3v2/rruq4XRRJ",
      "include_colab_link": true
    },
    "kernelspec": {
      "name": "python3",
      "display_name": "Python 3"
    },
    "language_info": {
      "name": "python"
    }
  },
  "cells": [
    {
      "cell_type": "markdown",
      "metadata": {
        "id": "view-in-github",
        "colab_type": "text"
      },
      "source": [
        "<a href=\"https://colab.research.google.com/github/Mattapalli73/Pytorch/blob/main/Loading%20CIFAR%2010%20Images.ipynb\" target=\"_parent\"><img src=\"https://colab.research.google.com/assets/colab-badge.svg\" alt=\"Open In Colab\"/></a>"
      ]
    },
    {
      "cell_type": "code",
      "source": [
        "from torch.utils.data.dataset import TensorDataset\n",
        "import torch\n",
        "from torch.utils.data import Dataset\n",
        "from torchvision import datasets\n",
        "from torchvision.transforms import ToTensor\n",
        "import matplotlib.pyplot as plt\n",
        "import numpy as np\n",
        "\n",
        "training_data=datasets.CIFAR10(\n",
        "    root=\"data\",\n",
        "    train=False,\n",
        "    download=True,\n",
        "    transform=ToTensor()\n",
        "    )\n",
        "test_data=datasets.CIFAR10(\n",
        "    root=\"data\",\n",
        "    train=False,\n",
        "    download=True,\n",
        "    transform=ToTensor()\n",
        "    )\n",
        "\n",
        "Data_Items = np.array(('plane', 'car', 'bird', 'cat', 'deer', 'dog', 'frog', 'horse', 'ship', 'truck'))\n",
        "\n",
        "Image_out=plt.figure(figsize=(8,8))\n",
        "print(Image_out)\n",
        "columns,rows=2,2\n",
        "for i in range(1, columns*rows+1):\n",
        "  sample=torch.randint(len(training_data),size=(1,)).item()\n",
        "  print(sample)\n",
        "  img, label = training_data[sample]\n",
        "  Image_out.add_subplot(rows, columns, i)\n",
        "  plt.title(Data_Items[label])\n",
        "  plt.axis(\"off\")\n",
        "  original_img = img.cpu().numpy().swapaxes(1,1).swapaxes(1,1)[0]\n",
        "  plt.imshow(original_img,vmin=0,vmax=25,cmap='BrBG')\n",
        "plt.show()"
      ],
      "metadata": {
        "colab": {
          "base_uri": "https://localhost:8080/",
          "height": 610
        },
        "id": "TmpbQTdmoPUe",
        "outputId": "0506a3b7-cf31-4086-e234-a5eb4ba70cbb"
      },
      "execution_count": 103,
      "outputs": [
        {
          "output_type": "stream",
          "name": "stdout",
          "text": [
            "Files already downloaded and verified\n",
            "Files already downloaded and verified\n",
            "Figure(576x576)\n",
            "6466\n",
            "3407\n",
            "4906\n",
            "7175\n"
          ]
        },
        {
          "output_type": "display_data",
          "data": {
            "image/png": "[encoded data removed]",
            "text/plain": [
              "<Figure size 576x576 with 4 Axes>"
            ]
          },
          "metadata": {
            "needs_background": "light"
          }
        }
      ]
    }
  ]
}