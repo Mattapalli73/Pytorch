{
  "nbformat": 4,
  "nbformat_minor": 0,
  "metadata": {
    "colab": {
      "name": "Untitled7.ipynb",
      "provenance": [],
      "authorship_tag": "ABX9TyOMYJd2bzKvy7UkYuRkKwfB",
      "include_colab_link": true
    },
    "kernelspec": {
      "name": "python3",
      "display_name": "Python 3"
    },
    "language_info": {
      "name": "python"
    }
  },
  "cells": [
    {
      "cell_type": "markdown",
      "metadata": {
        "id": "view-in-github",
        "colab_type": "text"
      },
      "source": [
        "<a href=\"https://colab.research.google.com/github/Mattapalli73/Pytorch/blob/main/Re-shapping%20the%20tensor%20using%20Flatten.ipynb\" target=\"_parent\"><img src=\"https://colab.research.google.com/assets/colab-badge.svg\" alt=\"Open In Colab\"/></a>"
      ]
    },
    {
      "cell_type": "code",
      "execution_count": 16,
      "metadata": {
        "colab": {
          "base_uri": "https://localhost:8080/"
        },
        "id": "0GaHnf28593_",
        "outputId": "b7204ec7-3467-4333-9a7f-1693bdb25d45"
      },
      "outputs": [
        {
          "output_type": "stream",
          "name": "stdout",
          "text": [
            "the data after tensor is tensor([[[1, 2],\n",
            "         [3, 4]],\n",
            "\n",
            "        [[5, 6],\n",
            "         [7, 8]]])\n",
            "the output after Flatten is: tensor([[1, 2, 3, 4],\n",
            "        [5, 6, 7, 8]])\n",
            "torch.Size([2, 4])\n"
          ]
        }
      ],
      "source": [
        "import torch\n",
        "import numpy as np\n",
        "data = [[[1, 2],[3, 4]],[[5,6],[7,8]]]\n",
        "#print(data.size())\n",
        "x_data = torch.tensor(data)\n",
        "print(\"the data after tensor is\",x_data)\n",
        "t=torch.flatten(x_data,start_dim=1,end_dim=2)\n",
        "print('the output after Flatten is:',t)\n",
        "print(t.size())\n",
        "\n"
      ]
    }
  ]
}